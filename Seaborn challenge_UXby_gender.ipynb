{
 "cells": [
  {
   "cell_type": "code",
   "execution_count": 1,
   "id": "f49e0dc2",
   "metadata": {},
   "outputs": [],
   "source": [
    "import pandas as pd\n",
    "import matplotlib.pyplot as plt\n",
    "import seaborn as sns"
   ]
  },
  {
   "cell_type": "code",
   "execution_count": 2,
   "id": "0d7264b9",
   "metadata": {},
   "outputs": [],
   "source": [
    "# read the csv data\n",
    "ux_data = pd.read_csv('ux_gender_data.csv')"
   ]
  },
  {
   "cell_type": "code",
   "execution_count": 3,
   "id": "42ac678c",
   "metadata": {},
   "outputs": [],
   "source": [
    "# Modify Dataframe\n",
    "ux_new = pd.melt(ux_data, id_vars=\"year\", var_name=\"sex\", value_name=\"percent\")\n",
    "ux_new['percent'] = ux_new['percent'].str.rstrip('%').astype('float') / 100.0"
   ]
  },
  {
   "cell_type": "code",
   "execution_count": 4,
   "id": "94e9c278",
   "metadata": {},
   "outputs": [
    {
     "name": "stdout",
     "output_type": "stream",
     "text": [
      "    year     sex  percent\n",
      "0   2010    male   0.6188\n",
      "1   2011    male   0.6212\n",
      "2   2012    male   0.6135\n",
      "3   2013    male   0.6367\n",
      "4   2014    male   0.6160\n",
      "5   2015    male   0.6231\n",
      "6   2016    male   0.6125\n",
      "7   2017    male   0.6032\n",
      "8   2018    male   0.6243\n",
      "9   2019    male   0.5938\n",
      "10  2021    male   0.5957\n",
      "11  2010  female   0.3812\n",
      "12  2011  female   0.3788\n",
      "13  2012  female   0.3865\n",
      "14  2013  female   0.3633\n",
      "15  2014  female   0.3840\n",
      "16  2015  female   0.3769\n",
      "17  2016  female   0.3875\n",
      "18  2017  female   0.3968\n",
      "19  2018  female   0.3757\n",
      "20  2019  female   0.4062\n",
      "21  2021  female   0.4043\n",
      "<class 'pandas.core.frame.DataFrame'>\n",
      "RangeIndex: 22 entries, 0 to 21\n",
      "Data columns (total 3 columns):\n",
      " #   Column   Non-Null Count  Dtype  \n",
      "---  ------   --------------  -----  \n",
      " 0   year     22 non-null     int64  \n",
      " 1   sex      22 non-null     object \n",
      " 2   percent  22 non-null     float64\n",
      "dtypes: float64(1), int64(1), object(1)\n",
      "memory usage: 656.0+ bytes\n"
     ]
    }
   ],
   "source": [
    "# display data\n",
    "print(ux_new)\n",
    "ux_new.info()"
   ]
  },
  {
   "cell_type": "code",
   "execution_count": 11,
   "id": "40dfb265",
   "metadata": {},
   "outputs": [
    {
     "data": {
      "image/png": "[encoded data removed]",
      "text/plain": [
       "<Figure size 640x480 with 1 Axes>"
      ]
     },
     "metadata": {},
     "output_type": "display_data"
    }
   ],
   "source": [
    "# Plot it\n",
    "plt.figure()\n",
    "#sns.barplot(y='year', x='percent', hue='sex', data=ux_new, orient='h')\n",
    "sns.histplot(ux_new, y='year', hue='sex', weights='percent', multiple='stack', shrink=0.5, discrete=True)\n",
    "plt.show()"
   ]
  },
  {
   "cell_type": "code",
   "execution_count": null,
   "id": "aa70f16e",
   "metadata": {},
   "outputs": [],
   "source": []
  }
 ],
 "metadata": {
  "kernelspec": {
   "display_name": "Python 3 (ipykernel)",
   "language": "python",
   "name": "python3"
  },
  "language_info": {
   "codemirror_mode": {
    "name": "ipython",
    "version": 3
   },
   "file_extension": ".py",
   "mimetype": "text/x-python",
   "name": "python",
   "nbconvert_exporter": "python",
   "pygments_lexer": "ipython3",
   "version": "3.9.16"
  }
 },
 "nbformat": 4,
 "nbformat_minor": 5
}
